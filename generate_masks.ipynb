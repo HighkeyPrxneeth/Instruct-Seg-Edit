{
 "cells": [
  {
   "cell_type": "code",
   "id": "initial_id",
   "metadata": {
    "collapsed": true,
    "ExecuteTime": {
     "end_time": "2025-10-02T05:23:38.346335Z",
     "start_time": "2025-10-02T05:23:38.115710Z"
    }
   },
   "source": [
    "import cv2\n",
    "from glob import glob\n",
    "import os\n",
    "from tqdm import tqdm"
   ],
   "outputs": [],
   "execution_count": 1
  },
  {
   "metadata": {
    "ExecuteTime": {
     "end_time": "2025-10-02T05:25:43.214592Z",
     "start_time": "2025-10-02T05:25:43.070424Z"
    }
   },
   "cell_type": "code",
   "source": [
    "original_images = glob(\"data\\\\images\\\\*.jpg\")\n",
    "edited_images = glob(\"data\\\\results\\\\*.jpg\")\n",
    "\n",
    "mappings = {}\n",
    "for orig_path in original_images:\n",
    "    base_name = os.path.basename(orig_path)\n",
    "    edited_path = os.path.join(\"data\\\\results\", base_name)\n",
    "    if edited_path in edited_images:\n",
    "        mappings[orig_path] = edited_path\n",
    "original_images = list(mappings.keys())\n",
    "edited_images = list(mappings.values())"
   ],
   "id": "abe782ac49c35954",
   "outputs": [],
   "execution_count": 5
  },
  {
   "metadata": {
    "ExecuteTime": {
     "end_time": "2025-10-02T05:27:04.252347Z",
     "start_time": "2025-10-02T05:26:40.503189Z"
    }
   },
   "cell_type": "code",
   "source": [
    "for paths in tqdm(zip(original_images, edited_images), desc=\"Generating edit maps\", total=len(original_images)):\n",
    "    original_image = cv2.imread(paths[0])\n",
    "    edited_image = cv2.imread(paths[1])\n",
    "    if original_image is None or edited_image is None:\n",
    "        print(f\"Warning: Could not load image(s): {paths[0]}, {paths[1]}\")\n",
    "        continue\n",
    "    if original_image.shape != edited_image.shape:\n",
    "        print(f\"Warning: Image shapes do not match: {paths[0]}, {paths[1]}\")\n",
    "        continue\n",
    "    original_gray = cv2.cvtColor(original_image, cv2.COLOR_BGR2GRAY)\n",
    "    edited_gray = cv2.cvtColor(edited_image, cv2.COLOR_BGR2GRAY)\n",
    "    diff_gray = cv2.absdiff(original_gray, edited_gray)\n",
    "    _, mask = cv2.threshold(diff_gray, 30, 255, cv2.THRESH_BINARY)\n",
    "    cv2.imwrite(f\"data\\\\masks\\\\{os.path.basename(paths[0])}\", mask)"
   ],
   "id": "3c7ed2a24b0eaac6",
   "outputs": [
    {
     "name": "stderr",
     "output_type": "stream",
     "text": [
      "Generating edit maps: 100%|██████████| 4165/4165 [00:23<00:00, 175.45it/s]\n"
     ]
    }
   ],
   "execution_count": 8
  }
 ],
 "metadata": {
  "kernelspec": {
   "display_name": "Python 3",
   "language": "python",
   "name": "python3"
  },
  "language_info": {
   "codemirror_mode": {
    "name": "ipython",
    "version": 2
   },
   "file_extension": ".py",
   "mimetype": "text/x-python",
   "name": "python",
   "nbconvert_exporter": "python",
   "pygments_lexer": "ipython2",
   "version": "2.7.6"
  }
 },
 "nbformat": 4,
 "nbformat_minor": 5
}
