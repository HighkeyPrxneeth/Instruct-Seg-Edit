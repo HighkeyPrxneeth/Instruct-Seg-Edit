{
 "cells": [
  {
   "cell_type": "code",
   "id": "initial_id",
   "metadata": {
    "collapsed": true,
    "ExecuteTime": {
     "end_time": "2025-09-30T17:46:59.791873Z",
     "start_time": "2025-09-30T17:46:59.415515Z"
    }
   },
   "source": [
    "import requests\n",
    "import json\n",
    "import websocket\n",
    "import uuid\n",
    "import os\n",
    "from tqdm.notebook import tqdm\n",
    "from PIL import Image\n",
    "import pandas as pd\n",
    "import io"
   ],
   "outputs": [],
   "execution_count": 1
  },
  {
   "cell_type": "code",
   "id": "1ae8bc5ccabd366f",
   "metadata": {
    "ExecuteTime": {
     "end_time": "2025-09-30T17:47:00.280978Z",
     "start_time": "2025-09-30T17:46:59.796173Z"
    }
   },
   "source": [
    "# ComfyUI server configuration\n",
    "server_address = \"127.0.0.1:8188\"\n",
    "client_id = str(uuid.uuid4())\n",
    "\n",
    "# Load the ComfyUI workflow from flux.json\n",
    "with open(\"flux.json\", \"r\") as f:\n",
    "    workflow = json.load(f)\n",
    "\n",
    "def queue_prompt(prompt):\n",
    "    p = {\"prompt\": prompt, \"client_id\": client_id}\n",
    "    data = json.dumps(p).encode('utf-8')\n",
    "    req = requests.post(f\"http://{server_address}/prompt\", data=data)\n",
    "    return json.loads(req.text)\n",
    "\n",
    "def get_image(filename, subfolder, folder_type):\n",
    "    data = {\"filename\": filename, \"subfolder\": subfolder, \"type\": folder_type}\n",
    "    url_values = \"&\".join([f\"{key}={value}\" for key, value in data.items()])\n",
    "\n",
    "    with requests.get(f\"http://{server_address}/view?{url_values}\") as response:\n",
    "        return Image.open(io.BytesIO(response.content)).resize((512, 512))\n",
    "\n",
    "def get_history(prompt_id):\n",
    "    with requests.get(f\"http://{server_address}/history/{prompt_id}\") as response:\n",
    "        return json.loads(response.text)\n",
    "\n",
    "def upload_image_to_comfyui(image_path):\n",
    "    \"\"\"Upload an image to ComfyUI and return the filename\"\"\"\n",
    "    with open(image_path, 'rb') as f:\n",
    "        files = {'image': (os.path.basename(image_path), f, 'image/jpeg')}\n",
    "        response = requests.post(f\"http://{server_address}/upload/image\", files=files)\n",
    "        return response.json()['name']\n",
    "\n",
    "def get_images(ws, prompt):\n",
    "    prompt_id = queue_prompt(prompt)['prompt_id']\n",
    "    output_images = {}\n",
    "\n",
    "    while True:\n",
    "        out = ws.recv()\n",
    "        if isinstance(out, str):\n",
    "            message = json.loads(out)\n",
    "            if message['type'] == 'executing':\n",
    "                data = message['data']\n",
    "                if data['node'] is None and data['prompt_id'] == prompt_id:\n",
    "                    break  # Execution is done\n",
    "        else:\n",
    "            continue  # previews are binary data\n",
    "\n",
    "    history = get_history(prompt_id)[prompt_id]\n",
    "    for node_id in history['outputs']:\n",
    "        node_output = history['outputs'][node_id]\n",
    "        if 'images' in node_output:\n",
    "            images_output = []\n",
    "            for image in node_output['images']:\n",
    "                images_output.append(get_image(image['filename'], image['subfolder'], image['type']))\n",
    "            output_images[node_id] = images_output\n",
    "\n",
    "    return output_images\n",
    "\n",
    "# Connect to ComfyUI WebSocket\n",
    "ws = websocket.WebSocket()\n",
    "ws.connect(f\"ws://{server_address}/ws?clientId={client_id}\")\n",
    "\n",
    "print(\"Connected to ComfyUI server\")"
   ],
   "outputs": [
    {
     "name": "stdout",
     "output_type": "stream",
     "text": [
      "Connected to ComfyUI server\n"
     ]
    }
   ],
   "execution_count": 2
  },
  {
   "cell_type": "code",
   "id": "1a1065e207f00c00",
   "metadata": {
    "ExecuteTime": {
     "end_time": "2025-09-30T17:47:06.635386Z",
     "start_time": "2025-09-30T17:47:00.350887Z"
    }
   },
   "source": [
    "images = os.listdir(\"data\\\\images\")\n",
    "prompts = os.listdir(\"data\\\\prompts\")\n",
    "\n",
    "data = []\n",
    "for image in images:\n",
    "    for prompt in prompts:\n",
    "        if image.split(\".\")[0] == prompt.split(\".\")[0]:\n",
    "            with open(os.path.join(\"data\\\\prompts\", prompt), \"r\", encoding='utf-8') as f:\n",
    "                edit_instruction = f.read().strip()\n",
    "            data.append({\n",
    "                \"image\": os.path.join(\"data\\\\images\", image),\n",
    "                \"edit_instruction\": edit_instruction\n",
    "            })\n",
    "\n",
    "print(len(images), len(prompts), len(data))"
   ],
   "outputs": [
    {
     "name": "stdout",
     "output_type": "stream",
     "text": [
      "4208 4165 4165\n"
     ]
    }
   ],
   "execution_count": 3
  },
  {
   "cell_type": "code",
   "id": "d661ce682affa032",
   "metadata": {
    "ExecuteTime": {
     "end_time": "2025-09-30T17:47:45.346787Z",
     "start_time": "2025-09-30T17:47:45.246184Z"
    }
   },
   "source": [
    "df = pd.DataFrame(data)\n",
    "df"
   ],
   "outputs": [
    {
     "data": {
      "text/plain": [
       "                                                 image  \\\n",
       "0     data\\images\\001942a95815b65dfc233ba7b91a315c.jpg   \n",
       "1     data\\images\\001ff48e3a5c7e49d3df9a5f3a9b96b0.jpg   \n",
       "2     data\\images\\00256813109f61c5d7cfa24c2c62f0c5.jpg   \n",
       "3     data\\images\\003adb36c828ab233ca1c4689c7d8c65.jpg   \n",
       "4     data\\images\\00414894ce6f90a38046a699d6b76c58.jpg   \n",
       "...                                                ...   \n",
       "4160  data\\images\\ffd67d4d8b77d86aa3c65be96dff619a.jpg   \n",
       "4161  data\\images\\ffdec85c15d1de90c72ccfbbbf7ea980.jpg   \n",
       "4162  data\\images\\ffdefdef8228025a21921ab83f90b270.jpg   \n",
       "4163  data\\images\\ffe4ff4bf98b4016ddb98d178aa4f259.jpg   \n",
       "4164  data\\images\\fffc84c68f24aa741345db0f9f2472cb.jpg   \n",
       "\n",
       "                                       edit_instruction  \n",
       "0      Add a small tag to the tree that says \"Juniper\".  \n",
       "1              Give the bearded dragon a tiny pacifier.  \n",
       "2     Add a red flower to one of the pots along the ...  \n",
       "3     Add a small informational plaque next to the s...  \n",
       "4         Add a generous glaze to the top of one scone.  \n",
       "...                                                 ...  \n",
       "4160    Add a small puddle of water under the sneakers.  \n",
       "4161     Add flames shooting out of the iguana's mouth.  \n",
       "4162                      Make the cat's tongue bigger.  \n",
       "4163  Give one of the marchers a smartphone in their...  \n",
       "4164  Add a small, reflective puddle beneath the bui...  \n",
       "\n",
       "[4165 rows x 2 columns]"
      ],
      "text/html": [
       "<div>\n",
       "<style scoped>\n",
       "    .dataframe tbody tr th:only-of-type {\n",
       "        vertical-align: middle;\n",
       "    }\n",
       "\n",
       "    .dataframe tbody tr th {\n",
       "        vertical-align: top;\n",
       "    }\n",
       "\n",
       "    .dataframe thead th {\n",
       "        text-align: right;\n",
       "    }\n",
       "</style>\n",
       "<table border=\"1\" class=\"dataframe\">\n",
       "  <thead>\n",
       "    <tr style=\"text-align: right;\">\n",
       "      <th></th>\n",
       "      <th>image</th>\n",
       "      <th>edit_instruction</th>\n",
       "    </tr>\n",
       "  </thead>\n",
       "  <tbody>\n",
       "    <tr>\n",
       "      <th>0</th>\n",
       "      <td>data\\images\\001942a95815b65dfc233ba7b91a315c.jpg</td>\n",
       "      <td>Add a small tag to the tree that says \"Juniper\".</td>\n",
       "    </tr>\n",
       "    <tr>\n",
       "      <th>1</th>\n",
       "      <td>data\\images\\001ff48e3a5c7e49d3df9a5f3a9b96b0.jpg</td>\n",
       "      <td>Give the bearded dragon a tiny pacifier.</td>\n",
       "    </tr>\n",
       "    <tr>\n",
       "      <th>2</th>\n",
       "      <td>data\\images\\00256813109f61c5d7cfa24c2c62f0c5.jpg</td>\n",
       "      <td>Add a red flower to one of the pots along the ...</td>\n",
       "    </tr>\n",
       "    <tr>\n",
       "      <th>3</th>\n",
       "      <td>data\\images\\003adb36c828ab233ca1c4689c7d8c65.jpg</td>\n",
       "      <td>Add a small informational plaque next to the s...</td>\n",
       "    </tr>\n",
       "    <tr>\n",
       "      <th>4</th>\n",
       "      <td>data\\images\\00414894ce6f90a38046a699d6b76c58.jpg</td>\n",
       "      <td>Add a generous glaze to the top of one scone.</td>\n",
       "    </tr>\n",
       "    <tr>\n",
       "      <th>...</th>\n",
       "      <td>...</td>\n",
       "      <td>...</td>\n",
       "    </tr>\n",
       "    <tr>\n",
       "      <th>4160</th>\n",
       "      <td>data\\images\\ffd67d4d8b77d86aa3c65be96dff619a.jpg</td>\n",
       "      <td>Add a small puddle of water under the sneakers.</td>\n",
       "    </tr>\n",
       "    <tr>\n",
       "      <th>4161</th>\n",
       "      <td>data\\images\\ffdec85c15d1de90c72ccfbbbf7ea980.jpg</td>\n",
       "      <td>Add flames shooting out of the iguana's mouth.</td>\n",
       "    </tr>\n",
       "    <tr>\n",
       "      <th>4162</th>\n",
       "      <td>data\\images\\ffdefdef8228025a21921ab83f90b270.jpg</td>\n",
       "      <td>Make the cat's tongue bigger.</td>\n",
       "    </tr>\n",
       "    <tr>\n",
       "      <th>4163</th>\n",
       "      <td>data\\images\\ffe4ff4bf98b4016ddb98d178aa4f259.jpg</td>\n",
       "      <td>Give one of the marchers a smartphone in their...</td>\n",
       "    </tr>\n",
       "    <tr>\n",
       "      <th>4164</th>\n",
       "      <td>data\\images\\fffc84c68f24aa741345db0f9f2472cb.jpg</td>\n",
       "      <td>Add a small, reflective puddle beneath the bui...</td>\n",
       "    </tr>\n",
       "  </tbody>\n",
       "</table>\n",
       "<p>4165 rows × 2 columns</p>\n",
       "</div>"
      ]
     },
     "execution_count": 4,
     "metadata": {},
     "output_type": "execute_result"
    }
   ],
   "execution_count": 4
  },
  {
   "cell_type": "code",
   "id": "289de7b5b43bd525",
   "metadata": {
    "ExecuteTime": {
     "end_time": "2025-09-30T17:51:51.273099Z",
     "start_time": "2025-09-30T17:47:45.396855Z"
    }
   },
   "source": [
    "# Process images one by one using ComfyUI\n",
    "for i in tqdm(range(len(df))):\n",
    "    row = df.iloc[i]\n",
    "    original_image_path = row[\"image\"]\n",
    "    edit_instruction = row[\"edit_instruction\"]\n",
    "\n",
    "    # Upload image to ComfyUI\n",
    "    uploaded_filename = upload_image_to_comfyui(original_image_path)\n",
    "\n",
    "    # Create a copy of the workflow for this iteration\n",
    "    current_workflow = workflow.copy()\n",
    "\n",
    "    # Update the workflow with the current image and prompt\n",
    "    current_workflow[\"5\"][\"inputs\"][\"image\"] = uploaded_filename  # LoadImage node\n",
    "    current_workflow[\"6\"][\"inputs\"][\"text\"] = edit_instruction    # CLIP Text Encode node\n",
    "\n",
    "    # Generate a random seed for each image\n",
    "    import random\n",
    "    current_workflow[\"20\"][\"inputs\"][\"noise_seed\"] = random.randint(0, 2**32 - 1)\n",
    "\n",
    "    # Execute the workflow\n",
    "    try:\n",
    "        output_images = get_images(ws, current_workflow)\n",
    "\n",
    "        # Get the generated image from the PreviewImage node (node 21)\n",
    "        if \"21\" in output_images and len(output_images[\"21\"]) > 0:\n",
    "            generated_image = output_images[\"21\"][0]\n",
    "\n",
    "            # Get original image dimensions\n",
    "            original_image = Image.open(original_image_path)\n",
    "            original_size = original_image.size\n",
    "\n",
    "            # Resize the generated image to match original dimensions\n",
    "            resized_image = generated_image.resize(original_size, Image.Resampling.LANCZOS)\n",
    "\n",
    "            # Save the result\n",
    "            original_name = os.path.basename(original_image_path)\n",
    "            output_path = os.path.join(\".\\\\data\\\\results\", original_name)\n",
    "            resized_image.save(output_path)\n",
    "\n",
    "            print(f\"Processed: {original_name}\")\n",
    "        else:\n",
    "            print(f\"No output generated for {original_image_path}\")\n",
    "\n",
    "    except Exception as e:\n",
    "        print(f\"Error processing {original_image_path}: {str(e)}\")\n",
    "        continue\n",
    "\n",
    "print(\"Batch processing completed   !\")"
   ],
   "outputs": [
    {
     "data": {
      "text/plain": [
       "  0%|          | 0/4165 [00:00<?, ?it/s]"
      ],
      "application/vnd.jupyter.widget-view+json": {
       "version_major": 2,
       "version_minor": 0,
       "model_id": "061c25417d59417485842e1b3f341331"
      }
     },
     "metadata": {},
     "output_type": "display_data",
     "jetTransient": {
      "display_id": null
     }
    },
    {
     "name": "stdout",
     "output_type": "stream",
     "text": [
      "Processed: 001942a95815b65dfc233ba7b91a315c.jpg\n",
      "Processed: 001ff48e3a5c7e49d3df9a5f3a9b96b0.jpg\n",
      "Processed: 00256813109f61c5d7cfa24c2c62f0c5.jpg\n",
      "Processed: 003adb36c828ab233ca1c4689c7d8c65.jpg\n",
      "Processed: 00414894ce6f90a38046a699d6b76c58.jpg\n",
      "Processed: 005182664a7e5e56cb94a79b7fd923d2.jpg\n",
      "Processed: 0052e6941a7a50c5b47112926ce25962.jpg\n",
      "Processed: 008b090baf3381cce37fd9aa1cf5fae5.jpg\n"
     ]
    },
    {
     "ename": "KeyboardInterrupt",
     "evalue": "",
     "output_type": "error",
     "traceback": [
      "\u001B[31m---------------------------------------------------------------------------\u001B[39m",
      "\u001B[31mKeyboardInterrupt\u001B[39m                         Traceback (most recent call last)",
      "\u001B[36mCell\u001B[39m\u001B[36m \u001B[39m\u001B[32mIn[5]\u001B[39m\u001B[32m, line 23\u001B[39m\n\u001B[32m     21\u001B[39m \u001B[38;5;66;03m# Execute the workflow\u001B[39;00m\n\u001B[32m     22\u001B[39m \u001B[38;5;28;01mtry\u001B[39;00m:\n\u001B[32m---> \u001B[39m\u001B[32m23\u001B[39m     output_images = \u001B[43mget_images\u001B[49m\u001B[43m(\u001B[49m\u001B[43mws\u001B[49m\u001B[43m,\u001B[49m\u001B[43m \u001B[49m\u001B[43mcurrent_workflow\u001B[49m\u001B[43m)\u001B[49m\n\u001B[32m     25\u001B[39m     \u001B[38;5;66;03m# Get the generated image from the PreviewImage node (node 21)\u001B[39;00m\n\u001B[32m     26\u001B[39m     \u001B[38;5;28;01mif\u001B[39;00m \u001B[33m\"\u001B[39m\u001B[33m21\u001B[39m\u001B[33m\"\u001B[39m \u001B[38;5;129;01min\u001B[39;00m output_images \u001B[38;5;129;01mand\u001B[39;00m \u001B[38;5;28mlen\u001B[39m(output_images[\u001B[33m\"\u001B[39m\u001B[33m21\u001B[39m\u001B[33m\"\u001B[39m]) > \u001B[32m0\u001B[39m:\n",
      "\u001B[36mCell\u001B[39m\u001B[36m \u001B[39m\u001B[32mIn[2]\u001B[39m\u001B[32m, line 38\u001B[39m, in \u001B[36mget_images\u001B[39m\u001B[34m(ws, prompt)\u001B[39m\n\u001B[32m     35\u001B[39m output_images = {}\n\u001B[32m     37\u001B[39m \u001B[38;5;28;01mwhile\u001B[39;00m \u001B[38;5;28;01mTrue\u001B[39;00m:\n\u001B[32m---> \u001B[39m\u001B[32m38\u001B[39m     out = \u001B[43mws\u001B[49m\u001B[43m.\u001B[49m\u001B[43mrecv\u001B[49m\u001B[43m(\u001B[49m\u001B[43m)\u001B[49m\n\u001B[32m     39\u001B[39m     \u001B[38;5;28;01mif\u001B[39;00m \u001B[38;5;28misinstance\u001B[39m(out, \u001B[38;5;28mstr\u001B[39m):\n\u001B[32m     40\u001B[39m         message = json.loads(out)\n",
      "\u001B[36mFile \u001B[39m\u001B[32m~\\anaconda3\\envs\\LLM\\Lib\\site-packages\\websocket\\_core.py:388\u001B[39m, in \u001B[36mWebSocket.recv\u001B[39m\u001B[34m(self)\u001B[39m\n\u001B[32m    380\u001B[39m \u001B[38;5;250m\u001B[39m\u001B[33;03m\"\"\"\u001B[39;00m\n\u001B[32m    381\u001B[39m \u001B[33;03mReceive string data(byte array) from the server.\u001B[39;00m\n\u001B[32m    382\u001B[39m \n\u001B[32m   (...)\u001B[39m\u001B[32m    385\u001B[39m \u001B[33;03mdata: string (byte array) value.\u001B[39;00m\n\u001B[32m    386\u001B[39m \u001B[33;03m\"\"\"\u001B[39;00m\n\u001B[32m    387\u001B[39m \u001B[38;5;28;01mwith\u001B[39;00m \u001B[38;5;28mself\u001B[39m.readlock:\n\u001B[32m--> \u001B[39m\u001B[32m388\u001B[39m     opcode, data = \u001B[38;5;28;43mself\u001B[39;49m\u001B[43m.\u001B[49m\u001B[43mrecv_data\u001B[49m\u001B[43m(\u001B[49m\u001B[43m)\u001B[49m\n\u001B[32m    389\u001B[39m \u001B[38;5;28;01mif\u001B[39;00m opcode == ABNF.OPCODE_TEXT:\n\u001B[32m    390\u001B[39m     data_received: Union[\u001B[38;5;28mbytes\u001B[39m, \u001B[38;5;28mstr\u001B[39m] = data\n",
      "\u001B[36mFile \u001B[39m\u001B[32m~\\anaconda3\\envs\\LLM\\Lib\\site-packages\\websocket\\_core.py:416\u001B[39m, in \u001B[36mWebSocket.recv_data\u001B[39m\u001B[34m(self, control_frame)\u001B[39m\n\u001B[32m    401\u001B[39m \u001B[38;5;28;01mdef\u001B[39;00m\u001B[38;5;250m \u001B[39m\u001B[34mrecv_data\u001B[39m(\u001B[38;5;28mself\u001B[39m, control_frame: \u001B[38;5;28mbool\u001B[39m = \u001B[38;5;28;01mFalse\u001B[39;00m) -> \u001B[38;5;28mtuple\u001B[39m:\n\u001B[32m    402\u001B[39m \u001B[38;5;250m    \u001B[39m\u001B[33;03m\"\"\"\u001B[39;00m\n\u001B[32m    403\u001B[39m \u001B[33;03m    Receive data with operation code.\u001B[39;00m\n\u001B[32m    404\u001B[39m \n\u001B[32m   (...)\u001B[39m\u001B[32m    414\u001B[39m \u001B[33;03m        tuple of operation code and string(byte array) value.\u001B[39;00m\n\u001B[32m    415\u001B[39m \u001B[33;03m    \"\"\"\u001B[39;00m\n\u001B[32m--> \u001B[39m\u001B[32m416\u001B[39m     opcode, frame = \u001B[38;5;28;43mself\u001B[39;49m\u001B[43m.\u001B[49m\u001B[43mrecv_data_frame\u001B[49m\u001B[43m(\u001B[49m\u001B[43mcontrol_frame\u001B[49m\u001B[43m)\u001B[49m\n\u001B[32m    417\u001B[39m     \u001B[38;5;28;01mreturn\u001B[39;00m opcode, frame.data\n",
      "\u001B[36mFile \u001B[39m\u001B[32m~\\anaconda3\\envs\\LLM\\Lib\\site-packages\\websocket\\_core.py:437\u001B[39m, in \u001B[36mWebSocket.recv_data_frame\u001B[39m\u001B[34m(self, control_frame)\u001B[39m\n\u001B[32m    420\u001B[39m \u001B[38;5;250m\u001B[39m\u001B[33;03m\"\"\"\u001B[39;00m\n\u001B[32m    421\u001B[39m \u001B[33;03mReceive data with operation code.\u001B[39;00m\n\u001B[32m    422\u001B[39m \n\u001B[32m   (...)\u001B[39m\u001B[32m    434\u001B[39m \u001B[33;03m    tuple of operation code and string(byte array) value.\u001B[39;00m\n\u001B[32m    435\u001B[39m \u001B[33;03m\"\"\"\u001B[39;00m\n\u001B[32m    436\u001B[39m \u001B[38;5;28;01mwhile\u001B[39;00m \u001B[38;5;28;01mTrue\u001B[39;00m:\n\u001B[32m--> \u001B[39m\u001B[32m437\u001B[39m     frame = \u001B[38;5;28;43mself\u001B[39;49m\u001B[43m.\u001B[49m\u001B[43mrecv_frame\u001B[49m\u001B[43m(\u001B[49m\u001B[43m)\u001B[49m\n\u001B[32m    438\u001B[39m     \u001B[38;5;28;01mif\u001B[39;00m isEnabledForTrace():\n\u001B[32m    439\u001B[39m         trace(\u001B[33mf\u001B[39m\u001B[33m\"\u001B[39m\u001B[33m++Rcv raw: \u001B[39m\u001B[38;5;132;01m{\u001B[39;00m\u001B[38;5;28mrepr\u001B[39m(frame.format())\u001B[38;5;132;01m}\u001B[39;00m\u001B[33m\"\u001B[39m)\n",
      "\u001B[36mFile \u001B[39m\u001B[32m~\\anaconda3\\envs\\LLM\\Lib\\site-packages\\websocket\\_core.py:478\u001B[39m, in \u001B[36mWebSocket.recv_frame\u001B[39m\u001B[34m(self)\u001B[39m\n\u001B[32m    470\u001B[39m \u001B[38;5;28;01mdef\u001B[39;00m\u001B[38;5;250m \u001B[39m\u001B[34mrecv_frame\u001B[39m(\u001B[38;5;28mself\u001B[39m):\n\u001B[32m    471\u001B[39m \u001B[38;5;250m    \u001B[39m\u001B[33;03m\"\"\"\u001B[39;00m\n\u001B[32m    472\u001B[39m \u001B[33;03m    Receive data as frame from server.\u001B[39;00m\n\u001B[32m    473\u001B[39m \n\u001B[32m   (...)\u001B[39m\u001B[32m    476\u001B[39m \u001B[33;03m    self.frame_buffer.recv_frame(): ABNF frame object\u001B[39;00m\n\u001B[32m    477\u001B[39m \u001B[33;03m    \"\"\"\u001B[39;00m\n\u001B[32m--> \u001B[39m\u001B[32m478\u001B[39m     \u001B[38;5;28;01mreturn\u001B[39;00m \u001B[38;5;28;43mself\u001B[39;49m\u001B[43m.\u001B[49m\u001B[43mframe_buffer\u001B[49m\u001B[43m.\u001B[49m\u001B[43mrecv_frame\u001B[49m\u001B[43m(\u001B[49m\u001B[43m)\u001B[49m\n",
      "\u001B[36mFile \u001B[39m\u001B[32m~\\anaconda3\\envs\\LLM\\Lib\\site-packages\\websocket\\_abnf.py:363\u001B[39m, in \u001B[36mframe_buffer.recv_frame\u001B[39m\u001B[34m(self)\u001B[39m\n\u001B[32m    360\u001B[39m \u001B[38;5;28;01mwith\u001B[39;00m \u001B[38;5;28mself\u001B[39m.lock:\n\u001B[32m    361\u001B[39m     \u001B[38;5;66;03m# Header\u001B[39;00m\n\u001B[32m    362\u001B[39m     \u001B[38;5;28;01mif\u001B[39;00m \u001B[38;5;28mself\u001B[39m.has_received_header():\n\u001B[32m--> \u001B[39m\u001B[32m363\u001B[39m         \u001B[38;5;28;43mself\u001B[39;49m\u001B[43m.\u001B[49m\u001B[43mrecv_header\u001B[49m\u001B[43m(\u001B[49m\u001B[43m)\u001B[49m\n\u001B[32m    364\u001B[39m     (fin, rsv1, rsv2, rsv3, opcode, has_mask, _) = \u001B[38;5;28mself\u001B[39m.header\n\u001B[32m    366\u001B[39m     \u001B[38;5;66;03m# Frame length\u001B[39;00m\n",
      "\u001B[36mFile \u001B[39m\u001B[32m~\\anaconda3\\envs\\LLM\\Lib\\site-packages\\websocket\\_abnf.py:319\u001B[39m, in \u001B[36mframe_buffer.recv_header\u001B[39m\u001B[34m(self)\u001B[39m\n\u001B[32m    318\u001B[39m \u001B[38;5;28;01mdef\u001B[39;00m\u001B[38;5;250m \u001B[39m\u001B[34mrecv_header\u001B[39m(\u001B[38;5;28mself\u001B[39m) -> \u001B[38;5;28;01mNone\u001B[39;00m:\n\u001B[32m--> \u001B[39m\u001B[32m319\u001B[39m     header = \u001B[38;5;28;43mself\u001B[39;49m\u001B[43m.\u001B[49m\u001B[43mrecv_strict\u001B[49m\u001B[43m(\u001B[49m\u001B[32;43m2\u001B[39;49m\u001B[43m)\u001B[49m\n\u001B[32m    320\u001B[39m     b1 = header[\u001B[32m0\u001B[39m]\n\u001B[32m    321\u001B[39m     fin = b1 >> \u001B[32m7\u001B[39m & \u001B[32m1\u001B[39m\n",
      "\u001B[36mFile \u001B[39m\u001B[32m~\\anaconda3\\envs\\LLM\\Lib\\site-packages\\websocket\\_abnf.py:398\u001B[39m, in \u001B[36mframe_buffer.recv_strict\u001B[39m\u001B[34m(self, bufsize)\u001B[39m\n\u001B[32m    390\u001B[39m shortage = bufsize - \u001B[38;5;28msum\u001B[39m(\u001B[38;5;28mmap\u001B[39m(\u001B[38;5;28mlen\u001B[39m, \u001B[38;5;28mself\u001B[39m.recv_buffer))\n\u001B[32m    391\u001B[39m \u001B[38;5;28;01mwhile\u001B[39;00m shortage > \u001B[32m0\u001B[39m:\n\u001B[32m    392\u001B[39m     \u001B[38;5;66;03m# Limit buffer size that we pass to socket.recv() to avoid\u001B[39;00m\n\u001B[32m    393\u001B[39m     \u001B[38;5;66;03m# fragmenting the heap -- the number of bytes recv() actually\u001B[39;00m\n\u001B[32m   (...)\u001B[39m\u001B[32m    396\u001B[39m     \u001B[38;5;66;03m# buffers allocated and then shrunk, which results in\u001B[39;00m\n\u001B[32m    397\u001B[39m     \u001B[38;5;66;03m# fragmentation.\u001B[39;00m\n\u001B[32m--> \u001B[39m\u001B[32m398\u001B[39m     bytes_ = \u001B[38;5;28;43mself\u001B[39;49m\u001B[43m.\u001B[49m\u001B[43mrecv\u001B[49m\u001B[43m(\u001B[49m\u001B[38;5;28;43mmin\u001B[39;49m\u001B[43m(\u001B[49m\u001B[32;43m16384\u001B[39;49m\u001B[43m,\u001B[49m\u001B[43m \u001B[49m\u001B[43mshortage\u001B[49m\u001B[43m)\u001B[49m\u001B[43m)\u001B[49m\n\u001B[32m    399\u001B[39m     \u001B[38;5;28mself\u001B[39m.recv_buffer.append(bytes_)\n\u001B[32m    400\u001B[39m     shortage -= \u001B[38;5;28mlen\u001B[39m(bytes_)\n",
      "\u001B[36mFile \u001B[39m\u001B[32m~\\anaconda3\\envs\\LLM\\Lib\\site-packages\\websocket\\_core.py:563\u001B[39m, in \u001B[36mWebSocket._recv\u001B[39m\u001B[34m(self, bufsize)\u001B[39m\n\u001B[32m    561\u001B[39m \u001B[38;5;28;01mdef\u001B[39;00m\u001B[38;5;250m \u001B[39m\u001B[34m_recv\u001B[39m(\u001B[38;5;28mself\u001B[39m, bufsize):\n\u001B[32m    562\u001B[39m     \u001B[38;5;28;01mtry\u001B[39;00m:\n\u001B[32m--> \u001B[39m\u001B[32m563\u001B[39m         \u001B[38;5;28;01mreturn\u001B[39;00m \u001B[43mrecv\u001B[49m\u001B[43m(\u001B[49m\u001B[38;5;28;43mself\u001B[39;49m\u001B[43m.\u001B[49m\u001B[43msock\u001B[49m\u001B[43m,\u001B[49m\u001B[43m \u001B[49m\u001B[43mbufsize\u001B[49m\u001B[43m)\u001B[49m\n\u001B[32m    564\u001B[39m     \u001B[38;5;28;01mexcept\u001B[39;00m WebSocketConnectionClosedException:\n\u001B[32m    565\u001B[39m         \u001B[38;5;28;01mif\u001B[39;00m \u001B[38;5;28mself\u001B[39m.sock:\n",
      "\u001B[36mFile \u001B[39m\u001B[32m~\\anaconda3\\envs\\LLM\\Lib\\site-packages\\websocket\\_socket.py:118\u001B[39m, in \u001B[36mrecv\u001B[39m\u001B[34m(sock, bufsize)\u001B[39m\n\u001B[32m    116\u001B[39m         bytes_ = sock.recv(bufsize)\n\u001B[32m    117\u001B[39m     \u001B[38;5;28;01melse\u001B[39;00m:\n\u001B[32m--> \u001B[39m\u001B[32m118\u001B[39m         bytes_ = \u001B[43m_recv\u001B[49m\u001B[43m(\u001B[49m\u001B[43m)\u001B[49m\n\u001B[32m    119\u001B[39m \u001B[38;5;28;01mexcept\u001B[39;00m \u001B[38;5;167;01mTimeoutError\u001B[39;00m:\n\u001B[32m    120\u001B[39m     \u001B[38;5;28;01mraise\u001B[39;00m WebSocketTimeoutException(\u001B[33m\"\u001B[39m\u001B[33mConnection timed out\u001B[39m\u001B[33m\"\u001B[39m)\n",
      "\u001B[36mFile \u001B[39m\u001B[32m~\\anaconda3\\envs\\LLM\\Lib\\site-packages\\websocket\\_socket.py:97\u001B[39m, in \u001B[36mrecv.<locals>._recv\u001B[39m\u001B[34m()\u001B[39m\n\u001B[32m     95\u001B[39m \u001B[38;5;28;01mdef\u001B[39;00m\u001B[38;5;250m \u001B[39m\u001B[34m_recv\u001B[39m():\n\u001B[32m     96\u001B[39m     \u001B[38;5;28;01mtry\u001B[39;00m:\n\u001B[32m---> \u001B[39m\u001B[32m97\u001B[39m         \u001B[38;5;28;01mreturn\u001B[39;00m \u001B[43msock\u001B[49m\u001B[43m.\u001B[49m\u001B[43mrecv\u001B[49m\u001B[43m(\u001B[49m\u001B[43mbufsize\u001B[49m\u001B[43m)\u001B[49m\n\u001B[32m     98\u001B[39m     \u001B[38;5;28;01mexcept\u001B[39;00m SSLWantReadError:\n\u001B[32m     99\u001B[39m         \u001B[38;5;28;01mpass\u001B[39;00m\n",
      "\u001B[31mKeyboardInterrupt\u001B[39m: "
     ]
    }
   ],
   "execution_count": 5
  }
 ],
 "metadata": {
  "kernelspec": {
   "display_name": "Python 3",
   "language": "python",
   "name": "python3"
  },
  "language_info": {
   "codemirror_mode": {
    "name": "ipython",
    "version": 2
   },
   "file_extension": ".py",
   "mimetype": "text/x-python",
   "name": "python",
   "nbconvert_exporter": "python",
   "pygments_lexer": "ipython2",
   "version": "2.7.6"
  }
 },
 "nbformat": 4,
 "nbformat_minor": 5
}
